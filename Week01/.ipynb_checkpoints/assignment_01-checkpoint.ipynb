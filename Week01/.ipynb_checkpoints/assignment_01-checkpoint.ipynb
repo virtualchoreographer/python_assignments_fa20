{
 "cells": [
  {
   "cell_type": "markdown",
   "metadata": {},
   "source": [
    "### Assignment 1: Create your own calculator!"
   ]
  },
  {
   "cell_type": "markdown",
   "metadata": {},
   "source": [
    "Before we actually code in Python, please write out how you might build this with code in plain English (pseudocoding!). Pseudocode is an important part of programming and is used in planning an algorithm with sketching out the structure of the program before the actual coding takes place."
   ]
  },
  {
   "cell_type": "code",
   "execution_count": 2,
   "metadata": {},
   "outputs": [],
   "source": [
    "## This week we were asked to create a simple calculator. Below is my thought process:\n",
    "\n",
    "# Draft 1\n",
    "\n",
    "# Take in an input that is a number , store it as firstNumber \n",
    "# If ____ is a number, then ask for a second number, else ask for a different first number\n",
    "# Take in an input that is another number , store it as secondNumber \n",
    "# If ____ is a number, then ask for the operation, else ask for a different secondNumber\n",
    "# Ask the user for an operation \"+\" for addition, \"-\" for subtraction, \"/\" for division, and \"*\" for multiplication \n",
    "# If _____ is not one of the 4 operations, then complete the following function \n",
    "# thirdNumber = 0\n",
    "# firstNumber operation secondNumber = thirdNumber\n",
    "# print thirdNumber \n",
    "# else ask for a different operation \n",
    "\n",
    "# Another? Y for Yes N for No \n",
    "# If \"Y\" , then start the process over , else terminate the program \n",
    "\n",
    "#Draft 2\n",
    "\n",
    "# take in and store two inputs as integers\n",
    "# ask for an operation, through a series of if/else statements convert \n",
    "# string representing an operation to the action. And complete the operation and print to console\n",
    "\n",
    "#Draft 3\n",
    "#Add in error messages, allowing for new inputs to be taken in "
   ]
  },
  {
   "cell_type": "markdown",
   "metadata": {},
   "source": [
    "__Using conditionals, operators, and functions, try creating a working calculator! We will go over the solution next week.__\n",
    "\n",
    "_Things to consider:_\n",
    "\n",
    "<li>You may want to ask for user input: use the Python input() method. If you're asking for numbers, you may need to change the input value from a string to a number. Consider using int(x) and float(x) to do so.</li>\n",
    "<li>Use the operators with the conditionals we learned in class! Ex) if user_input == '*': print(x * y) </li>\n",
    "<li>Use if...elif conditionals!</li>\n",
    "<li>Before you put your code into a function for reusability purposes, hard code first to make sure your logic is working</li>\n",
    "<li>Keep it simple and use the four operators we went over in class: +, -, *, /</li>"
   ]
  },
  {
   "cell_type": "code",
   "execution_count": 47,
   "metadata": {},
   "outputs": [
    {
     "ename": "IndentationError",
     "evalue": "unexpected indent (<ipython-input-47-a18e1be4b1e6>, line 3)",
     "output_type": "error",
     "traceback": [
      "\u001b[0;36m  File \u001b[0;32m\"<ipython-input-47-a18e1be4b1e6>\"\u001b[0;36m, line \u001b[0;32m3\u001b[0m\n\u001b[0;31m    user_inputOne = input('What is your first number?')\u001b[0m\n\u001b[0m    ^\u001b[0m\n\u001b[0;31mIndentationError\u001b[0m\u001b[0;31m:\u001b[0m unexpected indent\n"
     ]
    }
   ],
   "source": [
    "#def: calculator()\n",
    "    # ask for first number \n",
    "user_inputOne = input('What is your first number?')\n",
    "\n",
    "\n"
   ]
  },
  {
   "cell_type": "code",
   "execution_count": 43,
   "metadata": {},
   "outputs": [],
   "source": [
    "firstNumber = int(user_inputOne)"
   ]
  },
  {
   "cell_type": "code",
   "execution_count": 44,
   "metadata": {},
   "outputs": [
    {
     "name": "stdout",
     "output_type": "stream",
     "text": [
      "What is your second number?1005\n"
     ]
    }
   ],
   "source": [
    "user_inputTwo = input('What is your second number?')\n",
    "secondNumber = int(user_inputTwo)"
   ]
  },
  {
   "cell_type": "code",
   "execution_count": 45,
   "metadata": {},
   "outputs": [
    {
     "name": "stdout",
     "output_type": "stream",
     "text": [
      "Would you like to multiply <M>, divide <D>, add <A>, or subtract <S>? Type one letterD\n",
      "0.0955223880597015 is the correct answer\n"
     ]
    }
   ],
   "source": [
    "user_inputThree = input('Would you like to multiply <M>, divide <D>, add <A>, or subtract <S>? Type one letter')\n",
    "def theOperation():\n",
    "    operation = user_inputThree\n",
    "    if operation == 'M':\n",
    "        theAnswer = firstNumber * secondNumber\n",
    "        print(\"{} is the correct answer\" .format(theAnswer))\n",
    "    elif operation == 'D':\n",
    "        theAnswer = firstNumber / secondNumber\n",
    "        print(\"{} is the correct answer\" .format(theAnswer))\n",
    "    elif operation == 'S':\n",
    "        theAnswer = firstNumber - secondNumber\n",
    "        print(\"{} is the correct answer\" .format(theAnswer))\n",
    "    elif operation == 'A':\n",
    "        theAnswer = firstNumber + secondNumber\n",
    "        print(\"{} is the correct answer\" .format(theAnswer))\n",
    "    # else:\n",
    "        #user_inputThree = input('You did not enter a correct letter...M for Multiply, D for Divide, A for Addition, S for Subtraction')\n",
    "        #theOperation()\n",
    "    theOperation()"
   ]
  },
  {
   "cell_type": "code",
   "execution_count": null,
   "metadata": {},
   "outputs": [],
   "source": [
    "#repeatorNot = input (\"Do you want to complete another operation? Y/N\")\n",
    "#if repeatorNot = 'Y':\n",
    "    #calculator()\n",
    "#else:\n",
    "    #print(\"Ok, Goodbye\")"
   ]
  },
  {
   "cell_type": "code",
   "execution_count": null,
   "metadata": {},
   "outputs": [],
   "source": []
  }
 ],
 "metadata": {
  "kernelspec": {
   "display_name": "Python 3",
   "language": "python",
   "name": "python3"
  },
  "language_info": {
   "codemirror_mode": {
    "name": "ipython",
    "version": 3
   },
   "file_extension": ".py",
   "mimetype": "text/x-python",
   "name": "python",
   "nbconvert_exporter": "python",
   "pygments_lexer": "ipython3",
   "version": "3.8.3"
  }
 },
 "nbformat": 4,
 "nbformat_minor": 4
}
