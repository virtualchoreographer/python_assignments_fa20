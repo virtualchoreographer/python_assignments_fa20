{
 "cells": [
  {
   "cell_type": "markdown",
   "metadata": {},
   "source": [
    "# Practice Exercise"
   ]
  },
  {
   "cell_type": "markdown",
   "metadata": {},
   "source": [
    "Exercise 1:"
   ]
  },
  {
   "cell_type": "code",
   "execution_count": null,
   "metadata": {},
   "outputs": [],
   "source": [
    "# using functions and nested functions reformat your calculator code\n",
    "# so users can use our calculator again and again!"
   ]
  },
  {
   "cell_type": "code",
   "execution_count": null,
   "metadata": {},
   "outputs": [],
   "source": [
    "def calculator():\n",
    "    # ask for first number \n",
    "    user_inputOne = input('What is your first number?')\n",
    "    firstNumber = int(user_inputOne)\n",
    "    user_inputTwo = input('What is your second number?')\n",
    "    secondNumber = int(user_inputTwo)\n",
    "    user_inputThree = input('Would you like to multiply <M>, divide <D>, add <A>, or subtract <S>? Type one letter')\n",
    "    #def theOperation():\n",
    "    operation = user_inputThree\n",
    "    if operation == 'M':\n",
    "        theAnswer = firstNumber * secondNumber\n",
    "        print(\"{} is the correct answer\" .format(theAnswer))\n",
    "    elif operation == 'D':\n",
    "        theAnswer = firstNumber / secondNumber\n",
    "        print(\"{} is the correct answer\" .format(theAnswer))\n",
    "    elif operation == 'S':\n",
    "        theAnswer = firstNumber - secondNumber\n",
    "        print(\"{} is the correct answer\" .format(theAnswer))\n",
    "    elif operation == 'A':\n",
    "        theAnswer = firstNumber + secondNumber\n",
    "        print(\"{} is the correct answer\" .format(theAnswer))\n",
    "    # else:\n",
    "        #user_inputThree = input('You did not enter a correct letter...M for Multiply, D for Divide, A for Addition, S for Subtraction')\n",
    "        #theOperation()\n",
    "        #theOperation()\n",
    "    anotherOp = input (\"Another? Y/N\")\n",
    "    if anotherOp == \"Y\":\n",
    "        calculator()\n",
    "\n",
    "repeatorNot = input (\"Do you want to complete an operation? Y/N\")\n",
    "if repeatorNot == 'Y':\n",
    "    calculator()\n",
    "else:\n",
    "    print(\"Ok, Goodbye\")\n",
    "    \n",
    "\n",
    "        \n",
    "\n"
   ]
  },
  {
   "cell_type": "code",
   "execution_count": null,
   "metadata": {},
   "outputs": [],
   "source": [
    "Exercise 2:"
   ]
  },
  {
   "cell_type": "code",
   "execution_count": 1,
   "metadata": {},
   "outputs": [],
   "source": [
    "# Print the first 10 natural numbers using a loop \n",
    "\n",
    "# Expected output: \n",
    "# 0\n",
    "# 1\n",
    "# 2\n",
    "# 3\n",
    "# 4\n",
    "# 5\n",
    "# 6\n",
    "# 7\n",
    "# 8\n",
    "# 9\n",
    "# 10"
   ]
  },
  {
   "cell_type": "markdown",
   "metadata": {},
   "source": [
    "Write your code below:"
   ]
  },
  {
   "cell_type": "code",
   "execution_count": null,
   "metadata": {},
   "outputs": [],
   "source": [
    "for i in range(11):\n",
    "    print(i)\n",
    "    i+1\n"
   ]
  },
  {
   "cell_type": "markdown",
   "metadata": {},
   "source": [
    "Exercise 3:"
   ]
  },
  {
   "cell_type": "code",
   "execution_count": 1,
   "metadata": {},
   "outputs": [],
   "source": [
    "# Execute the loop in exercise 1 and print the message Done! after \n",
    "\n",
    "# Expected output: \n",
    "# 0\n",
    "# 1\n",
    "# 2\n",
    "# 3\n",
    "# 4\n",
    "# 5\n",
    "# 6\n",
    "# 7\n",
    "# 8\n",
    "# 9\n",
    "# 10\n",
    "# Done! "
   ]
  },
  {
   "cell_type": "markdown",
   "metadata": {},
   "source": [
    "Write your code below:"
   ]
  },
  {
   "cell_type": "code",
   "execution_count": 18,
   "metadata": {},
   "outputs": [
    {
     "name": "stdout",
     "output_type": "stream",
     "text": [
      "0\n",
      "1\n",
      "2\n",
      "3\n",
      "4\n",
      "5\n",
      "6\n",
      "7\n",
      "8\n",
      "9\n",
      "10\n",
      "Done!\n"
     ]
    }
   ],
   "source": [
    "for i in range(11):\n",
    "    print(i)\n",
    "    i+1\n",
    "print(\"Done!\")"
   ]
  },
  {
   "cell_type": "markdown",
   "metadata": {},
   "source": [
    "Exercise 4:"
   ]
  },
  {
   "cell_type": "code",
   "execution_count": 3,
   "metadata": {},
   "outputs": [],
   "source": [
    "# Print the numbers greater than 150 from the list \n",
    "\n",
    "# list = [12, 15, 47, 63, 78, 101, 157, 178, 189]\n",
    "# Expected output: \n",
    "\n",
    "# 157\n",
    "# 178 \n",
    "# 189 "
   ]
  },
  {
   "cell_type": "markdown",
   "metadata": {},
   "source": [
    "Write your code below:"
   ]
  },
  {
   "cell_type": "code",
   "execution_count": 1,
   "metadata": {},
   "outputs": [
    {
     "name": "stdout",
     "output_type": "stream",
     "text": [
      "157\n",
      "178\n",
      "189\n"
     ]
    }
   ],
   "source": [
    "list = [12, 15, 47, 63, 78, 101, 157, 178, 189]\n",
    "i = 0\n",
    "while i < 9:\n",
    "    if list[i] > 150:\n",
    "        print (list[i])\n",
    "    i+=1\n",
    "    \n"
   ]
  },
  {
   "cell_type": "markdown",
   "metadata": {},
   "source": [
    "Exercise 5:"
   ]
  },
  {
   "cell_type": "code",
   "execution_count": 4,
   "metadata": {},
   "outputs": [],
   "source": [
    "# Print the number that is even and less than 150 \n",
    "\n",
    "# list = [12, 15, 47, 63, 78, 101, 157, 178, 189]\n",
    "# Expected output: \n",
    "\n",
    "# 12\n",
    "# 78\n",
    "\n",
    "# Hint: if you find a number greater than 150, stop the loop with a break"
   ]
  },
  {
   "cell_type": "markdown",
   "metadata": {},
   "source": [
    "Write your code below:"
   ]
  },
  {
   "cell_type": "code",
   "execution_count": 6,
   "metadata": {},
   "outputs": [
    {
     "name": "stdout",
     "output_type": "stream",
     "text": [
      "12\n",
      "78\n"
     ]
    }
   ],
   "source": [
    "# can we assume the numbers are listed in chronological order? \n",
    "\n",
    "list = [12, 15, 47, 63, 78, 101, 157, 178, 189]\n",
    "i = 0\n",
    "while i < 9:\n",
    "    if list[i] < 150:\n",
    "        if list[i] % 2 == 0: \n",
    "            print (list[i])\n",
    "    i+=1"
   ]
  },
  {
   "cell_type": "markdown",
   "metadata": {},
   "source": [
    "Exercise 6:"
   ]
  },
  {
   "cell_type": "code",
   "execution_count": 5,
   "metadata": {},
   "outputs": [],
   "source": [
    "# This will be a challenging!\n",
    "\n",
    "# Write a while loop that flips a coin 10 times\n",
    "\n",
    "# Hint: Look into the random library using: \n",
    "# https://docs.python.org/3/library/random.html\n",
    "# https://www.pythonforbeginners.com/random/how-to-use-the-random-module-in-python"
   ]
  },
  {
   "cell_type": "markdown",
   "metadata": {},
   "source": [
    "Write your code below:"
   ]
  },
  {
   "cell_type": "code",
   "execution_count": 5,
   "metadata": {},
   "outputs": [
    {
     "name": "stdout",
     "output_type": "stream",
     "text": [
      "heads\n",
      "heads\n",
      "heads\n",
      "tails\n",
      "tails\n",
      "tails\n",
      "tails\n",
      "heads\n",
      "tails\n",
      "tails\n",
      "heads\n"
     ]
    }
   ],
   "source": [
    "# importing the python random library\n",
    "import random\n",
    "for x in range(11):\n",
    "    coinFlip = random.choice( ['heads', 'tails'] )\n",
    "    print (coinFlip)\n",
    "\n"
   ]
  },
  {
   "cell_type": "code",
   "execution_count": null,
   "metadata": {},
   "outputs": [],
   "source": []
  }
 ],
 "metadata": {
  "kernelspec": {
   "display_name": "Python 3",
   "language": "python",
   "name": "python3"
  },
  "language_info": {
   "codemirror_mode": {
    "name": "ipython",
    "version": 3
   },
   "file_extension": ".py",
   "mimetype": "text/x-python",
   "name": "python",
   "nbconvert_exporter": "python",
   "pygments_lexer": "ipython3",
   "version": "3.8.3"
  }
 },
 "nbformat": 4,
 "nbformat_minor": 2
}
